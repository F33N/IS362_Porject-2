{
 "cells": [
  {
   "cell_type": "code",
   "execution_count": 2,
   "id": "b0a8081d",
   "metadata": {},
   "outputs": [
    {
     "name": "stdout",
     "output_type": "stream",
     "text": [
      "Product\n",
      "A    1650\n",
      "B    1350\n",
      "C    1050\n",
      "Name: Sales, dtype: int64\n"
     ]
    }
   ],
   "source": [
    "import pandas as pd\n",
    "\n",
    "# Load the CSV data into a pandas DataFrame\n",
    "sales = pd.read_csv('G:/My Drive/School Work/Spring 2023/IS362/Project 2/sales.csv')\n",
    "\n",
    "# Tidy the DataFrame\n",
    "tidy_sales = sales.melt(id_vars='Product', var_name='Month', value_name='Sales')\n",
    "\n",
    "# Calculate total sales for each product\n",
    "total_sales = tidy_sales.groupby('Product')['Sales'].sum()\n",
    "\n",
    "print(total_sales)\n"
   ]
  },
  {
   "cell_type": "code",
   "execution_count": 3,
   "id": "6ed34e2b",
   "metadata": {},
   "outputs": [
    {
     "name": "stdout",
     "output_type": "stream",
     "text": [
      "    Name Question Answer\n",
      "0  Alice       Q1    Yes\n",
      "1    Bob       Q1     No\n",
      "2  Alice       Q2     No\n",
      "3    Bob       Q2    Yes\n"
     ]
    }
   ],
   "source": [
    "import pandas as pd\n",
    "\n",
    "# Load the CSV data into a pandas DataFrame\n",
    "survey = pd.read_csv('G:/My Drive/School Work/Spring 2023/IS362/Project 2/survey.csv')\n",
    "\n",
    "# Tidy the DataFrame\n",
    "tidy_survey = survey.melt(id_vars='Name', var_name='Question', value_name='Answer')\n",
    "\n",
    "print(tidy_survey)\n"
   ]
  },
  {
   "cell_type": "code",
   "execution_count": 4,
   "id": "111fa312",
   "metadata": {},
   "outputs": [
    {
     "name": "stdout",
     "output_type": "stream",
     "text": [
      "  City Time of Day  Temperature\n",
      "0   NY     Morning           20\n",
      "1   LA     Morning           25\n",
      "2   NY   Afternoon           25\n",
      "3   LA   Afternoon           30\n",
      "4   NY     Evening           22\n",
      "5   LA     Evening           28\n"
     ]
    }
   ],
   "source": [
    "import pandas as pd\n",
    "\n",
    "# Load the CSV data into a pandas DataFrame\n",
    "temperature = pd.read_csv('G:/My Drive/School Work/Spring 2023/IS362/Project 2/temperature.csv')\n",
    "\n",
    "# Tidy the DataFrame\n",
    "tidy_temperature = temperature.melt(id_vars='City', var_name='Time of Day', value_name='Temperature')\n",
    "\n",
    "print(tidy_temperature)\n"
   ]
  },
  {
   "cell_type": "code",
   "execution_count": null,
   "id": "e459cb01",
   "metadata": {},
   "outputs": [],
   "source": []
  }
 ],
 "metadata": {
  "kernelspec": {
   "display_name": "Python 3 (ipykernel)",
   "language": "python",
   "name": "python3"
  },
  "language_info": {
   "codemirror_mode": {
    "name": "ipython",
    "version": 3
   },
   "file_extension": ".py",
   "mimetype": "text/x-python",
   "name": "python",
   "nbconvert_exporter": "python",
   "pygments_lexer": "ipython3",
   "version": "3.10.9"
  }
 },
 "nbformat": 4,
 "nbformat_minor": 5
}
